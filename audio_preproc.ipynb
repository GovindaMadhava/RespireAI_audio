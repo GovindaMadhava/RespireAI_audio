{
 "cells": [
  {
   "cell_type": "code",
   "execution_count": 3,
   "id": "2097e3b0",
   "metadata": {},
   "outputs": [],
   "source": [
    "import numpy as np\n",
    "import librosa\n",
    "import os\n",
    "import random\n",
    "from pydub import AudioSegment\n",
    "from pydub.generators import WhiteNoise"
   ]
  },
  {
   "cell_type": "code",
   "execution_count": 4,
   "id": "407fbdab",
   "metadata": {},
   "outputs": [],
   "source": [
    "# Since audio files for each category are non-uniform / imbalanced, we perform data augmentation.\n",
    "\n",
    "# Adding random noise to the data\n",
    "def add_noise(data,x):\n",
    "    noise = np.random.randn(len(data))\n",
    "    data_noise = data + x * noise\n",
    "    return data_noise\n",
    "\n",
    "# Shifting audio files by making use of numpy and librosa libraries\n",
    "def shift(data,x):\n",
    "    return np.roll(data, x)\n",
    "\n",
    "# Applied time-stretch augmentation to the audio files by making use of the librosa library\n",
    "def stretch(data, rate):\n",
    "    data = librosa.effects.time_stretch(data, rate)\n",
    "    return "
   ]
  },
  {
   "cell_type": "code",
   "execution_count": 30,
   "id": "6a255bdc",
   "metadata": {},
   "outputs": [
    {
     "name": "stdout",
     "output_type": "stream",
     "text": [
      "Processing completed.\n"
     ]
    }
   ],
   "source": [
    "import os\n",
    "from pydub import AudioSegment\n",
    "from pydub.generators import WhiteNoise\n",
    "import random\n",
    "\n",
    "# Define the input and output directories\n",
    "input_directory = \"C:\\\\Users\\\\gmbsm\\\\audio_input_data\"  # Replace with the path to your input directory\n",
    "output_directory = \"C:\\\\Users\\\\gmbsm\\\\audio_output_data\"  # Replace with the path to your desired output directory\n",
    "static_directory = \"C:\\\\Users\\\\gmbsm\\\\audio_output_data\"\n",
    "\n",
    "# List of diseases considered\n",
    "diseases = [\"Asthma\", \"heartfailure\", \"pneumonia\", \"COPD\"]\n",
    "# Output_disease_directory = \"C:\\\\Users\\\\gmbsm\\\\audio_output_data\"\n",
    "# Iterate through each disease folder\n",
    "for disease in diseases:\n",
    "    # Create the output directory for the current disease\n",
    "    audio_output_data = os.path.join(output_directory, disease)\n",
    "    if not os.path.exists(output_directory):\n",
    "        os.makedirs(output_directory)\n",
    "        \n",
    "    # Get the list of audio files in the current disease folder\n",
    "    disease_folder = os.path.join(input_directory, disease)\n",
    "    audio_files = [f for f in os.listdir(disease_folder) if f.endswith(\".wav\")]\n",
    "    output_directory = static_directory + \"\\\\\" + disease\n",
    "    \n",
    "    # Iterate through each audio file in the current disease folder\n",
    "    for audio_file in audio_files:\n",
    "        # Load the audio file\n",
    "        audio_path = os.path.join(disease_folder, audio_file)\n",
    "        audio = AudioSegment.from_wav(audio_path)\n",
    "        \n",
    "        # Add random noise\n",
    "        noise = WhiteNoise().to_audio_segment(duration=len(audio))\n",
    "        audio_with_noise = audio.overlay(noise)\n",
    "        \n",
    "        # Shift the audio\n",
    "        shift_amount = random.uniform(-1, 1) * 1000  # Randomly shift by up to 1 second\n",
    "        audio_shifted = audio_with_noise.overlay(AudioSegment.silent(duration=abs(1.6)))\n",
    "        \n",
    "        # Time-stretch the audio\n",
    "        stretch_factor = random.uniform(0.8, 1.2)  # Randomly stretch by 0.8x to 1.2x\n",
    "        audio_stretched = audio_shifted.speedup(playback_speed=1.2)\n",
    "        \n",
    "        # Save the processed audio to the output directory\n",
    "        output_file = os.path.join(output_directory, audio_file)\n",
    "        audio_stretched.export(output_file, format=\"wav\")\n",
    "print(\"Processing completed.\")"
   ]
  }
 ],
 "metadata": {
  "kernelspec": {
   "display_name": "Python 3 (ipykernel)",
   "language": "python",
   "name": "python3"
  },
  "language_info": {
   "codemirror_mode": {
    "name": "ipython",
    "version": 3
   },
   "file_extension": ".py",
   "mimetype": "text/x-python",
   "name": "python",
   "nbconvert_exporter": "python",
   "pygments_lexer": "ipython3",
   "version": "3.9.7"
  }
 },
 "nbformat": 4,
 "nbformat_minor": 5
}
